{
 "cells": [
  {
   "cell_type": "code",
   "execution_count": 1,
   "metadata": {},
   "outputs": [],
   "source": [
    "import os\n",
    "import sys\n",
    "import pandas as pd\n",
    "import json\n",
    "import numpy as np\n",
    "import nibabel as nb\n",
    "import glob\n",
    "import seaborn as sns\n",
    "from nilearn.plotting import plot_anat, plot_epi\n",
    "%matplotlib inline"
   ]
  },
  {
   "cell_type": "markdown",
   "metadata": {},
   "source": [
    "# Reading Text Files"
   ]
  },
  {
   "cell_type": "code",
   "execution_count": 2,
   "metadata": {},
   "outputs": [],
   "source": [
    "canned_data = open('canned_data.csv', mode='r')"
   ]
  },
  {
   "cell_type": "code",
   "execution_count": 3,
   "metadata": {},
   "outputs": [
    {
     "data": {
      "text/plain": [
       "['id,pars,ndss-t\\n',\n",
       " '1,8,15\\n',\n",
       " '2,7,16\\n',\n",
       " '3,26,6\\n',\n",
       " '4,11,16\\n',\n",
       " '5,29,2\\n',\n",
       " '6,14,9\\n',\n",
       " '7,2,13\\n',\n",
       " '8,29,14\\n',\n",
       " '9,30,6\\n',\n",
       " '10,8,0\\n',\n",
       " '11,32,16\\n',\n",
       " '12,22,4\\n',\n",
       " '13,17,4\\n',\n",
       " '14,26,17\\n',\n",
       " '15,19,18\\n',\n",
       " '16,3,8\\n',\n",
       " '17,32,14\\n',\n",
       " '18,4,10\\n',\n",
       " '19,6,5\\n',\n",
       " '20,17,18\\n',\n",
       " '21,1,15\\n',\n",
       " '22,31,6\\n',\n",
       " '23,12,1\\n',\n",
       " '24,16,17\\n',\n",
       " '25,27,15\\n',\n",
       " '26,25,10\\n',\n",
       " '27,32,16\\n',\n",
       " '28,13,10\\n',\n",
       " '29,18,8\\n',\n",
       " '30,13,13\\n',\n",
       " '31,16,17\\n',\n",
       " '32,20,6\\n',\n",
       " '33,14,8\\n',\n",
       " '34,16,6\\n',\n",
       " '35,2,2\\n',\n",
       " '36,18,16\\n',\n",
       " '37,23,0\\n',\n",
       " '38,26,14\\n',\n",
       " '39,31,14\\n',\n",
       " '40,32,13\\n',\n",
       " '41,10,6\\n',\n",
       " '42,6,6\\n',\n",
       " '43,7,5\\n',\n",
       " '44,0,1\\n',\n",
       " '45,12,14\\n',\n",
       " '46,21,0\\n',\n",
       " '47,7,12\\n',\n",
       " '48,18,14\\n',\n",
       " '49,33,1\\n',\n",
       " '50,29,6\\n',\n",
       " '51,5,6\\n',\n",
       " '52,7,16\\n',\n",
       " '53,7,15\\n',\n",
       " '54,20,13\\n',\n",
       " '55,7,7\\n',\n",
       " '56,21,3\\n',\n",
       " '57,1,18\\n',\n",
       " '58,2,18\\n',\n",
       " '59,24,0\\n',\n",
       " '60,13,2\\n',\n",
       " '61,34,6\\n',\n",
       " '62,19,13\\n',\n",
       " '63,5,15\\n',\n",
       " '64,21,18\\n',\n",
       " '65,2,8\\n',\n",
       " '66,7,12\\n',\n",
       " '67,34,17\\n',\n",
       " '68,8,9\\n',\n",
       " '69,4,1\\n',\n",
       " '70,34,8\\n',\n",
       " '71,31,3\\n',\n",
       " '72,33,3\\n',\n",
       " '73,6,9\\n',\n",
       " '74,9,3\\n',\n",
       " '75,25,4\\n',\n",
       " '76,18,9\\n',\n",
       " '77,18,14\\n',\n",
       " '78,30,18\\n',\n",
       " '79,28,2\\n',\n",
       " '80,22,11\\n',\n",
       " '81,7,2\\n',\n",
       " '82,22,15\\n',\n",
       " '83,22,10\\n',\n",
       " '84,12,6\\n',\n",
       " '85,19,8\\n',\n",
       " '86,0,7\\n',\n",
       " '87,3,0\\n',\n",
       " '88,24,18\\n',\n",
       " '89,2,16\\n',\n",
       " '90,27,3\\n',\n",
       " '91,17,2\\n',\n",
       " '92,33,15\\n',\n",
       " '93,0,17\\n',\n",
       " '94,28,18\\n',\n",
       " '95,5,2\\n',\n",
       " '96,16,13\\n',\n",
       " '97,8,11\\n',\n",
       " '98,5,7\\n',\n",
       " '99,15,18\\n']"
      ]
     },
     "execution_count": 3,
     "metadata": {},
     "output_type": "execute_result"
    }
   ],
   "source": [
    "canned_data.readlines()"
   ]
  },
  {
   "cell_type": "code",
   "execution_count": 4,
   "metadata": {},
   "outputs": [],
   "source": [
    "canned_data.close()"
   ]
  },
  {
   "cell_type": "code",
   "execution_count": 5,
   "metadata": {},
   "outputs": [
    {
     "name": "stdout",
     "output_type": "stream",
     "text": [
      "id,pars,ndss-t\n",
      "\n",
      "1,8,15\n",
      "\n",
      "2,7,16\n",
      "\n",
      "3,26,6\n",
      "\n",
      "4,11,16\n",
      "\n",
      "5,29,2\n",
      "\n",
      "6,14,9\n",
      "\n",
      "7,2,13\n",
      "\n",
      "8,29,14\n",
      "\n",
      "9,30,6\n",
      "\n",
      "10,8,0\n",
      "\n",
      "11,32,16\n",
      "\n",
      "12,22,4\n",
      "\n",
      "13,17,4\n",
      "\n",
      "14,26,17\n",
      "\n",
      "15,19,18\n",
      "\n",
      "16,3,8\n",
      "\n",
      "17,32,14\n",
      "\n",
      "18,4,10\n",
      "\n",
      "19,6,5\n",
      "\n",
      "20,17,18\n",
      "\n",
      "21,1,15\n",
      "\n",
      "22,31,6\n",
      "\n",
      "23,12,1\n",
      "\n",
      "24,16,17\n",
      "\n",
      "25,27,15\n",
      "\n",
      "26,25,10\n",
      "\n",
      "27,32,16\n",
      "\n",
      "28,13,10\n",
      "\n",
      "29,18,8\n",
      "\n",
      "30,13,13\n",
      "\n",
      "31,16,17\n",
      "\n",
      "32,20,6\n",
      "\n",
      "33,14,8\n",
      "\n",
      "34,16,6\n",
      "\n",
      "35,2,2\n",
      "\n",
      "36,18,16\n",
      "\n",
      "37,23,0\n",
      "\n",
      "38,26,14\n",
      "\n",
      "39,31,14\n",
      "\n",
      "40,32,13\n",
      "\n",
      "41,10,6\n",
      "\n",
      "42,6,6\n",
      "\n",
      "43,7,5\n",
      "\n",
      "44,0,1\n",
      "\n",
      "45,12,14\n",
      "\n",
      "46,21,0\n",
      "\n",
      "47,7,12\n",
      "\n",
      "48,18,14\n",
      "\n",
      "49,33,1\n",
      "\n",
      "50,29,6\n",
      "\n",
      "51,5,6\n",
      "\n",
      "52,7,16\n",
      "\n",
      "53,7,15\n",
      "\n",
      "54,20,13\n",
      "\n",
      "55,7,7\n",
      "\n",
      "56,21,3\n",
      "\n",
      "57,1,18\n",
      "\n",
      "58,2,18\n",
      "\n",
      "59,24,0\n",
      "\n",
      "60,13,2\n",
      "\n",
      "61,34,6\n",
      "\n",
      "62,19,13\n",
      "\n",
      "63,5,15\n",
      "\n",
      "64,21,18\n",
      "\n",
      "65,2,8\n",
      "\n",
      "66,7,12\n",
      "\n",
      "67,34,17\n",
      "\n",
      "68,8,9\n",
      "\n",
      "69,4,1\n",
      "\n",
      "70,34,8\n",
      "\n",
      "71,31,3\n",
      "\n",
      "72,33,3\n",
      "\n",
      "73,6,9\n",
      "\n",
      "74,9,3\n",
      "\n",
      "75,25,4\n",
      "\n",
      "76,18,9\n",
      "\n",
      "77,18,14\n",
      "\n",
      "78,30,18\n",
      "\n",
      "79,28,2\n",
      "\n",
      "80,22,11\n",
      "\n",
      "81,7,2\n",
      "\n",
      "82,22,15\n",
      "\n",
      "83,22,10\n",
      "\n",
      "84,12,6\n",
      "\n",
      "85,19,8\n",
      "\n",
      "86,0,7\n",
      "\n",
      "87,3,0\n",
      "\n",
      "88,24,18\n",
      "\n",
      "89,2,16\n",
      "\n",
      "90,27,3\n",
      "\n",
      "91,17,2\n",
      "\n",
      "92,33,15\n",
      "\n",
      "93,0,17\n",
      "\n",
      "94,28,18\n",
      "\n",
      "95,5,2\n",
      "\n",
      "96,16,13\n",
      "\n",
      "97,8,11\n",
      "\n",
      "98,5,7\n",
      "\n",
      "99,15,18\n",
      "\n"
     ]
    }
   ],
   "source": [
    "with open('canned_data.csv', 'r') as canned_data:\n",
    "    for line in canned_data.readlines():\n",
    "        print(line)"
   ]
  },
  {
   "cell_type": "code",
   "execution_count": 6,
   "metadata": {},
   "outputs": [
    {
     "ename": "ValueError",
     "evalue": "I/O operation on closed file.",
     "output_type": "error",
     "traceback": [
      "\u001b[0;31m---------------------------------------------------------------------------\u001b[0m",
      "\u001b[0;31mValueError\u001b[0m                                Traceback (most recent call last)",
      "\u001b[0;32m<ipython-input-6-fe630b035200>\u001b[0m in \u001b[0;36m<module>\u001b[0;34m\u001b[0m\n\u001b[0;32m----> 1\u001b[0;31m \u001b[0mcanned_data\u001b[0m\u001b[0;34m.\u001b[0m\u001b[0mreadlines\u001b[0m\u001b[0;34m(\u001b[0m\u001b[0;34m)\u001b[0m\u001b[0;34m\u001b[0m\u001b[0;34m\u001b[0m\u001b[0m\n\u001b[0m",
      "\u001b[0;31mValueError\u001b[0m: I/O operation on closed file."
     ]
    }
   ],
   "source": [
    "canned_data.readlines()"
   ]
  },
  {
   "cell_type": "markdown",
   "metadata": {},
   "source": [
    "# Writing Text Files"
   ]
  },
  {
   "cell_type": "code",
   "execution_count": 7,
   "metadata": {},
   "outputs": [],
   "source": [
    "with open('bohemian_rhapsody.lyrics', 'a') as new_file:\n",
    "    new_file.writelines('Mama, just killed a man')\n",
    "    new_file.writelines('Put a gun against his head')\n",
    "    new_file.writelines(\"Pulled my trigger, now he's dead\")\n",
    "    new_file.writelines('Mama, life had just begun')\n",
    "    new_file.writelines(\"But now I've gone and thrown it all away\")"
   ]
  },
  {
   "cell_type": "code",
   "execution_count": 8,
   "metadata": {},
   "outputs": [
    {
     "name": "stdout",
     "output_type": "stream",
     "text": [
      "Mama, just killed a manPut a gun against his headPulled my trigger, now he's deadMama, life had just begunBut now I've gone and thrown it all away\n"
     ]
    }
   ],
   "source": [
    "with open('bohemian_rhapsody.lyrics', 'r') as lyrics_file:\n",
    "    for line in lyrics_file.readlines():\n",
    "        print(line)"
   ]
  },
  {
   "cell_type": "code",
   "execution_count": 9,
   "metadata": {},
   "outputs": [],
   "source": [
    "with open('bohemian_rhapsody.lyrics', 'a') as new_file:\n",
    "    new_file.writelines('Mama, just killed a man\\n')\n",
    "    new_file.writelines('Put a gun against his head\\n')\n",
    "    new_file.writelines(\"Pulled my trigger, now he's dead\\n\")\n",
    "    new_file.writelines('Mama, life had just begun\\n')\n",
    "    new_file.writelines(\"But now I've gone and thrown it all away\\n\")"
   ]
  },
  {
   "cell_type": "code",
   "execution_count": 10,
   "metadata": {},
   "outputs": [
    {
     "name": "stdout",
     "output_type": "stream",
     "text": [
      "Mama, just killed a manPut a gun against his headPulled my trigger, now he's deadMama, life had just begunBut now I've gone and thrown it all awayMama, just killed a man\n",
      "\n",
      "Put a gun against his head\n",
      "\n",
      "Pulled my trigger, now he's dead\n",
      "\n",
      "Mama, life had just begun\n",
      "\n",
      "But now I've gone and thrown it all away\n",
      "\n"
     ]
    }
   ],
   "source": [
    "with open('bohemian_rhapsody.lyrics', 'r') as lyrics_file:\n",
    "    for line in lyrics_file.readlines():\n",
    "        print(line)"
   ]
  },
  {
   "cell_type": "code",
   "execution_count": 11,
   "metadata": {},
   "outputs": [],
   "source": [
    "with open('bohemian_rhapsody.lyrics', 'w') as new_file:\n",
    "    new_file.writelines('Mama, just killed a man\\n')\n",
    "    new_file.writelines('Put a gun against his head\\n')\n",
    "    new_file.writelines(\"Pulled my trigger, now he's dead\\n\")\n",
    "    new_file.writelines('Mama, life had just begun\\n')\n",
    "    new_file.writelines(\"But now I've gone and thrown it all away\\n\")"
   ]
  },
  {
   "cell_type": "code",
   "execution_count": 14,
   "metadata": {},
   "outputs": [
    {
     "name": "stdout",
     "output_type": "stream",
     "text": [
      "Mama, just killed a man\n",
      "\n",
      "Put a gun against his head\n",
      "\n",
      "Pulled my trigger, now he's dead\n",
      "\n",
      "Mama, life had just begun\n",
      "\n",
      "But now I've gone and thrown it all away\n",
      "\n"
     ]
    }
   ],
   "source": [
    "with open('bohemian_rhapsody.lyrics', 'r') as lyrics_file:\n",
    "    for line in lyrics_file.readlines():\n",
    "        print(test)"
   ]
  },
  {
   "cell_type": "code",
   "execution_count": 15,
   "metadata": {},
   "outputs": [
    {
     "data": {
      "text/plain": [
       "\"But now I've gone and thrown it all away\\n\""
      ]
     },
     "execution_count": 15,
     "metadata": {},
     "output_type": "execute_result"
    }
   ],
   "source": [
    "line"
   ]
  },
  {
   "cell_type": "markdown",
   "metadata": {},
   "source": [
    "# When using open() mode is important!"
   ]
  },
  {
   "cell_type": "markdown",
   "metadata": {},
   "source": [
    "### 'r' mode is for reading\n",
    "### 'a' mode is for appending\n",
    "### 'w' mode is for writing/overwriting"
   ]
  },
  {
   "cell_type": "markdown",
   "metadata": {},
   "source": [
    "# Opening files in specialised modules"
   ]
  },
  {
   "cell_type": "code",
   "execution_count": 16,
   "metadata": {},
   "outputs": [],
   "source": [
    "canned_data = pd.read_csv('canned_data.csv') #pd is the common way to import pandas"
   ]
  },
  {
   "cell_type": "code",
   "execution_count": 17,
   "metadata": {},
   "outputs": [
    {
     "data": {
      "text/html": [
       "<div>\n",
       "<style scoped>\n",
       "    .dataframe tbody tr th:only-of-type {\n",
       "        vertical-align: middle;\n",
       "    }\n",
       "\n",
       "    .dataframe tbody tr th {\n",
       "        vertical-align: top;\n",
       "    }\n",
       "\n",
       "    .dataframe thead th {\n",
       "        text-align: right;\n",
       "    }\n",
       "</style>\n",
       "<table border=\"1\" class=\"dataframe\">\n",
       "  <thead>\n",
       "    <tr style=\"text-align: right;\">\n",
       "      <th></th>\n",
       "      <th>id</th>\n",
       "      <th>pars</th>\n",
       "      <th>ndss-t</th>\n",
       "    </tr>\n",
       "  </thead>\n",
       "  <tbody>\n",
       "    <tr>\n",
       "      <td>0</td>\n",
       "      <td>1</td>\n",
       "      <td>8</td>\n",
       "      <td>15</td>\n",
       "    </tr>\n",
       "    <tr>\n",
       "      <td>1</td>\n",
       "      <td>2</td>\n",
       "      <td>7</td>\n",
       "      <td>16</td>\n",
       "    </tr>\n",
       "    <tr>\n",
       "      <td>2</td>\n",
       "      <td>3</td>\n",
       "      <td>26</td>\n",
       "      <td>6</td>\n",
       "    </tr>\n",
       "    <tr>\n",
       "      <td>3</td>\n",
       "      <td>4</td>\n",
       "      <td>11</td>\n",
       "      <td>16</td>\n",
       "    </tr>\n",
       "    <tr>\n",
       "      <td>4</td>\n",
       "      <td>5</td>\n",
       "      <td>29</td>\n",
       "      <td>2</td>\n",
       "    </tr>\n",
       "    <tr>\n",
       "      <td>...</td>\n",
       "      <td>...</td>\n",
       "      <td>...</td>\n",
       "      <td>...</td>\n",
       "    </tr>\n",
       "    <tr>\n",
       "      <td>94</td>\n",
       "      <td>95</td>\n",
       "      <td>5</td>\n",
       "      <td>2</td>\n",
       "    </tr>\n",
       "    <tr>\n",
       "      <td>95</td>\n",
       "      <td>96</td>\n",
       "      <td>16</td>\n",
       "      <td>13</td>\n",
       "    </tr>\n",
       "    <tr>\n",
       "      <td>96</td>\n",
       "      <td>97</td>\n",
       "      <td>8</td>\n",
       "      <td>11</td>\n",
       "    </tr>\n",
       "    <tr>\n",
       "      <td>97</td>\n",
       "      <td>98</td>\n",
       "      <td>5</td>\n",
       "      <td>7</td>\n",
       "    </tr>\n",
       "    <tr>\n",
       "      <td>98</td>\n",
       "      <td>99</td>\n",
       "      <td>15</td>\n",
       "      <td>18</td>\n",
       "    </tr>\n",
       "  </tbody>\n",
       "</table>\n",
       "<p>99 rows × 3 columns</p>\n",
       "</div>"
      ],
      "text/plain": [
       "    id  pars  ndss-t\n",
       "0    1     8      15\n",
       "1    2     7      16\n",
       "2    3    26       6\n",
       "3    4    11      16\n",
       "4    5    29       2\n",
       "..  ..   ...     ...\n",
       "94  95     5       2\n",
       "95  96    16      13\n",
       "96  97     8      11\n",
       "97  98     5       7\n",
       "98  99    15      18\n",
       "\n",
       "[99 rows x 3 columns]"
      ]
     },
     "execution_count": 17,
     "metadata": {},
     "output_type": "execute_result"
    }
   ],
   "source": [
    "canned_data"
   ]
  },
  {
   "cell_type": "code",
   "execution_count": 19,
   "metadata": {},
   "outputs": [],
   "source": [
    "canned_data = np.genfromtxt('canned_data.csv', delimiter=',') #np is the common way to import numpy"
   ]
  },
  {
   "cell_type": "code",
   "execution_count": 20,
   "metadata": {},
   "outputs": [
    {
     "data": {
      "text/plain": [
       "array([[nan, nan, nan],\n",
       "       [ 1.,  8., 15.],\n",
       "       [ 2.,  7., 16.],\n",
       "       [ 3., 26.,  6.],\n",
       "       [ 4., 11., 16.],\n",
       "       [ 5., 29.,  2.],\n",
       "       [ 6., 14.,  9.],\n",
       "       [ 7.,  2., 13.],\n",
       "       [ 8., 29., 14.],\n",
       "       [ 9., 30.,  6.],\n",
       "       [10.,  8.,  0.],\n",
       "       [11., 32., 16.],\n",
       "       [12., 22.,  4.],\n",
       "       [13., 17.,  4.],\n",
       "       [14., 26., 17.],\n",
       "       [15., 19., 18.],\n",
       "       [16.,  3.,  8.],\n",
       "       [17., 32., 14.],\n",
       "       [18.,  4., 10.],\n",
       "       [19.,  6.,  5.],\n",
       "       [20., 17., 18.],\n",
       "       [21.,  1., 15.],\n",
       "       [22., 31.,  6.],\n",
       "       [23., 12.,  1.],\n",
       "       [24., 16., 17.],\n",
       "       [25., 27., 15.],\n",
       "       [26., 25., 10.],\n",
       "       [27., 32., 16.],\n",
       "       [28., 13., 10.],\n",
       "       [29., 18.,  8.],\n",
       "       [30., 13., 13.],\n",
       "       [31., 16., 17.],\n",
       "       [32., 20.,  6.],\n",
       "       [33., 14.,  8.],\n",
       "       [34., 16.,  6.],\n",
       "       [35.,  2.,  2.],\n",
       "       [36., 18., 16.],\n",
       "       [37., 23.,  0.],\n",
       "       [38., 26., 14.],\n",
       "       [39., 31., 14.],\n",
       "       [40., 32., 13.],\n",
       "       [41., 10.,  6.],\n",
       "       [42.,  6.,  6.],\n",
       "       [43.,  7.,  5.],\n",
       "       [44.,  0.,  1.],\n",
       "       [45., 12., 14.],\n",
       "       [46., 21.,  0.],\n",
       "       [47.,  7., 12.],\n",
       "       [48., 18., 14.],\n",
       "       [49., 33.,  1.],\n",
       "       [50., 29.,  6.],\n",
       "       [51.,  5.,  6.],\n",
       "       [52.,  7., 16.],\n",
       "       [53.,  7., 15.],\n",
       "       [54., 20., 13.],\n",
       "       [55.,  7.,  7.],\n",
       "       [56., 21.,  3.],\n",
       "       [57.,  1., 18.],\n",
       "       [58.,  2., 18.],\n",
       "       [59., 24.,  0.],\n",
       "       [60., 13.,  2.],\n",
       "       [61., 34.,  6.],\n",
       "       [62., 19., 13.],\n",
       "       [63.,  5., 15.],\n",
       "       [64., 21., 18.],\n",
       "       [65.,  2.,  8.],\n",
       "       [66.,  7., 12.],\n",
       "       [67., 34., 17.],\n",
       "       [68.,  8.,  9.],\n",
       "       [69.,  4.,  1.],\n",
       "       [70., 34.,  8.],\n",
       "       [71., 31.,  3.],\n",
       "       [72., 33.,  3.],\n",
       "       [73.,  6.,  9.],\n",
       "       [74.,  9.,  3.],\n",
       "       [75., 25.,  4.],\n",
       "       [76., 18.,  9.],\n",
       "       [77., 18., 14.],\n",
       "       [78., 30., 18.],\n",
       "       [79., 28.,  2.],\n",
       "       [80., 22., 11.],\n",
       "       [81.,  7.,  2.],\n",
       "       [82., 22., 15.],\n",
       "       [83., 22., 10.],\n",
       "       [84., 12.,  6.],\n",
       "       [85., 19.,  8.],\n",
       "       [86.,  0.,  7.],\n",
       "       [87.,  3.,  0.],\n",
       "       [88., 24., 18.],\n",
       "       [89.,  2., 16.],\n",
       "       [90., 27.,  3.],\n",
       "       [91., 17.,  2.],\n",
       "       [92., 33., 15.],\n",
       "       [93.,  0., 17.],\n",
       "       [94., 28., 18.],\n",
       "       [95.,  5.,  2.],\n",
       "       [96., 16., 13.],\n",
       "       [97.,  8., 11.],\n",
       "       [98.,  5.,  7.],\n",
       "       [99., 15., 18.]])"
      ]
     },
     "execution_count": 20,
     "metadata": {},
     "output_type": "execute_result"
    }
   ],
   "source": [
    "canned_data"
   ]
  },
  {
   "cell_type": "markdown",
   "metadata": {},
   "source": [
    "# Opening Neuroimaging Data in Python"
   ]
  },
  {
   "cell_type": "code",
   "execution_count": 21,
   "metadata": {},
   "outputs": [],
   "source": [
    "img = nb.load('sub-001_anat_sub-001_run-01_T1w.nii.gz') #nb is the common way to import nibabel"
   ]
  },
  {
   "cell_type": "code",
   "execution_count": 22,
   "metadata": {},
   "outputs": [
    {
     "data": {
      "text/plain": [
       "<nibabel.nifti1.Nifti1Image at 0x7f4211e57e10>"
      ]
     },
     "execution_count": 22,
     "metadata": {},
     "output_type": "execute_result"
    }
   ],
   "source": [
    "img"
   ]
  },
  {
   "cell_type": "code",
   "execution_count": 23,
   "metadata": {},
   "outputs": [
    {
     "data": {
      "text/plain": [
       "array([[   0.        ,    0.        ,    1.        ,  -93.0983963 ],\n",
       "       [  -1.        ,    0.        ,    0.        ,  148.77400208],\n",
       "       [   0.        ,    1.        ,    0.        , -130.44200134],\n",
       "       [   0.        ,    0.        ,    0.        ,    1.        ]])"
      ]
     },
     "execution_count": 23,
     "metadata": {},
     "output_type": "execute_result"
    }
   ],
   "source": [
    "img.affine"
   ]
  },
  {
   "cell_type": "code",
   "execution_count": 24,
   "metadata": {},
   "outputs": [
    {
     "name": "stdout",
     "output_type": "stream",
     "text": [
      "<class 'nibabel.nifti1.Nifti1Header'> object, endian='<'\n",
      "sizeof_hdr      : 348\n",
      "data_type       : b''\n",
      "db_name         : b''\n",
      "extents         : 0\n",
      "session_error   : 0\n",
      "regular         : b''\n",
      "dim_info        : 0\n",
      "dim             : [  3 256 256 186   1   1   1   1]\n",
      "intent_p1       : 0.0\n",
      "intent_p2       : 0.0\n",
      "intent_p3       : 0.0\n",
      "intent_code     : none\n",
      "datatype        : float32\n",
      "bitpix          : 32\n",
      "slice_start     : 0\n",
      "pixdim          : [-1.        1.        1.        1.        0.009184  1.        1.\n",
      "  1.      ]\n",
      "vox_offset      : 0.0\n",
      "scl_slope       : nan\n",
      "scl_inter       : nan\n",
      "slice_end       : 0\n",
      "slice_code      : unknown\n",
      "xyzt_units      : 10\n",
      "cal_max         : 0.0\n",
      "cal_min         : 0.0\n",
      "slice_duration  : 0.0\n",
      "toffset         : 0.0\n",
      "glmax           : 0\n",
      "glmin           : 0\n",
      "descrip         : b'FreeSurfer Dec  2 2008'\n",
      "aux_file        : b''\n",
      "qform_code      : scanner\n",
      "sform_code      : scanner\n",
      "quatern_b       : 0.5\n",
      "quatern_c       : -0.5\n",
      "quatern_d       : -0.5\n",
      "qoffset_x       : -93.0984\n",
      "qoffset_y       : 148.774\n",
      "qoffset_z       : -130.442\n",
      "srow_x          : [  0.       0.       1.     -93.0984]\n",
      "srow_y          : [ -1.      0.      0.    148.774]\n",
      "srow_z          : [   0.       1.       0.    -130.442]\n",
      "intent_name     : b''\n",
      "magic           : b'n+1'\n"
     ]
    }
   ],
   "source": [
    "print(img.header)"
   ]
  },
  {
   "cell_type": "code",
   "execution_count": 25,
   "metadata": {},
   "outputs": [
    {
     "data": {
      "text/plain": [
       "array([[[ 0.,  0.,  0., ...,  0.,  0.,  0.],\n",
       "        [ 0.,  0.,  0., ...,  0.,  0.,  0.],\n",
       "        [ 0.,  0.,  0., ...,  0.,  0.,  0.],\n",
       "        ...,\n",
       "        [ 0.,  0.,  0., ...,  0.,  0.,  0.],\n",
       "        [ 0.,  0.,  0., ...,  0.,  0.,  0.],\n",
       "        [ 0.,  0.,  0., ...,  0.,  0.,  0.]],\n",
       "\n",
       "       [[ 0.,  0.,  0., ...,  0.,  0.,  0.],\n",
       "        [ 0.,  0.,  0., ...,  0.,  0.,  0.],\n",
       "        [ 0.,  0.,  0., ...,  0.,  0.,  0.],\n",
       "        ...,\n",
       "        [ 0.,  0.,  0., ...,  0.,  0.,  0.],\n",
       "        [ 0.,  0.,  0., ...,  0.,  0.,  0.],\n",
       "        [ 0.,  0.,  0., ...,  0.,  0.,  0.]],\n",
       "\n",
       "       [[ 0.,  0.,  0., ...,  0.,  0.,  0.],\n",
       "        [ 0.,  0.,  0., ...,  0.,  0.,  0.],\n",
       "        [ 0.,  0.,  0., ...,  0.,  0.,  0.],\n",
       "        ...,\n",
       "        [ 0.,  0.,  0., ...,  0.,  0.,  0.],\n",
       "        [ 0.,  0.,  0., ...,  0.,  0.,  0.],\n",
       "        [ 0.,  0.,  0., ...,  0.,  0.,  0.]],\n",
       "\n",
       "       ...,\n",
       "\n",
       "       [[ 0.,  0.,  0., ...,  0.,  0.,  0.],\n",
       "        [ 0.,  0.,  0., ...,  0.,  0.,  0.],\n",
       "        [17., 13., 10., ..., 13., 13., 20.],\n",
       "        ...,\n",
       "        [18., 12., 11., ..., 13., 14., 19.],\n",
       "        [ 0.,  0.,  0., ...,  0.,  0.,  0.],\n",
       "        [ 0.,  0.,  0., ...,  0.,  0.,  0.]],\n",
       "\n",
       "       [[ 0.,  0.,  0., ...,  0.,  0.,  0.],\n",
       "        [ 0.,  0.,  0., ...,  0.,  0.,  0.],\n",
       "        [15., 12., 11., ..., 12., 11., 17.],\n",
       "        ...,\n",
       "        [15., 11., 10., ...,  9., 11., 15.],\n",
       "        [ 0.,  0.,  0., ...,  0.,  0.,  0.],\n",
       "        [ 0.,  0.,  0., ...,  0.,  0.,  0.]],\n",
       "\n",
       "       [[ 0.,  0.,  0., ...,  0.,  0.,  0.],\n",
       "        [ 0.,  0.,  0., ...,  0.,  0.,  0.],\n",
       "        [14., 12., 10., ..., 12., 11., 14.],\n",
       "        ...,\n",
       "        [13., 11., 11., ..., 10., 11., 14.],\n",
       "        [ 0.,  0.,  0., ...,  0.,  0.,  0.],\n",
       "        [ 0.,  0.,  0., ...,  0.,  0.,  0.]]], dtype=float32)"
      ]
     },
     "execution_count": 25,
     "metadata": {},
     "output_type": "execute_result"
    }
   ],
   "source": [
    "img.get_data()"
   ]
  },
  {
   "cell_type": "code",
   "execution_count": 26,
   "metadata": {},
   "outputs": [
    {
     "data": {
      "text/plain": [
       "12189696"
      ]
     },
     "execution_count": 26,
     "metadata": {},
     "output_type": "execute_result"
    }
   ],
   "source": [
    "img.get_data().size"
   ]
  },
  {
   "cell_type": "code",
   "execution_count": 41,
   "metadata": {},
   "outputs": [
    {
     "data": {
      "text/plain": [
       "<nilearn.plotting.displays.OrthoSlicer at 0x7f4189bab1d0>"
      ]
     },
     "execution_count": 41,
     "metadata": {},
     "output_type": "execute_result"
    },
    {
     "data": {
      "image/png": "[encoded data removed]",
      "text/plain": [
       "<Figure size 475.2x187.2 with 4 Axes>"
      ]
     },
     "metadata": {},
     "output_type": "display_data"
    }
   ],
   "source": [
    "plot_anat(img, draw_cross=False)"
   ]
  },
  {
   "cell_type": "code",
   "execution_count": 43,
   "metadata": {},
   "outputs": [],
   "source": [
    "os.makedirs('test_dir')"
   ]
  },
  {
   "cell_type": "code",
   "execution_count": 46,
   "metadata": {},
   "outputs": [
    {
     "name": "stdout",
     "output_type": "stream",
     "text": [
      "bohemian_rhapsody.lyrics\t requirements.txt\r\n",
      "canned_data.csv\t\t\t sub-001_anat_sub-001_run-01_T1w.nii.gz\r\n",
      "file_opening_presentation.ipynb  test_dir\r\n",
      "README.md\r\n"
     ]
    }
   ],
   "source": [
    "!ls"
   ]
  },
  {
   "cell_type": "code",
   "execution_count": 60,
   "metadata": {},
   "outputs": [],
   "source": [
    "os.chdir('/home/jovyan/')"
   ]
  },
  {
   "cell_type": "code",
   "execution_count": 61,
   "metadata": {},
   "outputs": [],
   "source": [
    "file_list = os.listdir()"
   ]
  },
  {
   "cell_type": "code",
   "execution_count": 67,
   "metadata": {},
   "outputs": [
    {
     "name": "stdout",
     "output_type": "stream",
     "text": [
      "os.stat_result(st_mode=33188, st_ino=8384055, st_dev=1048645, st_nlink=1, st_uid=1000, st_gid=1000, st_size=3771, st_atime=1522866626, st_mtime=1522866626, st_ctime=1571335493)\n",
      "os.stat_result(st_mode=33188, st_ino=8384036, st_dev=1048645, st_nlink=1, st_uid=1000, st_gid=1000, st_size=220, st_atime=1522866626, st_mtime=1522866626, st_ctime=1571335493)\n",
      "os.stat_result(st_mode=33188, st_ino=8384898, st_dev=1048645, st_nlink=1, st_uid=1000, st_gid=1000, st_size=807, st_atime=1522866626, st_mtime=1522866626, st_ctime=1571335493)\n",
      "os.stat_result(st_mode=33188, st_ino=6425895, st_dev=1048645, st_nlink=1, st_uid=1000, st_gid=1000, st_size=151, st_atime=1571336350, st_mtime=1571336348, st_ctime=1571336348)\n",
      "os.stat_result(st_mode=16877, st_ino=6430085, st_dev=1048645, st_nlink=6, st_uid=1000, st_gid=1000, st_size=4096, st_atime=1571337488, st_mtime=1571337461, st_ctime=1571337461)\n",
      "os.stat_result(st_mode=16877, st_ino=17276608, st_dev=1048645, st_nlink=2, st_uid=1000, st_gid=1000, st_size=4096, st_atime=1571337741, st_mtime=1571337612, st_ctime=1571337612)\n",
      "os.stat_result(st_mode=16832, st_ino=8390486, st_dev=1048645, st_nlink=1, st_uid=1000, st_gid=1000, st_size=4096, st_atime=1571337368, st_mtime=1571337365, st_ctime=1571337365)\n",
      "os.stat_result(st_mode=16877, st_ino=6432180, st_dev=1048645, st_nlink=3, st_uid=1000, st_gid=1000, st_size=4096, st_atime=1571336048, st_mtime=1571335988, st_ctime=1571335988)\n",
      "os.stat_result(st_mode=16877, st_ino=6432237, st_dev=1048645, st_nlink=2, st_uid=1000, st_gid=1000, st_size=4096, st_atime=1571336168, st_mtime=1571336134, st_ctime=1571336134)\n",
      "os.stat_result(st_mode=33188, st_ino=8384901, st_dev=1048645, st_nlink=1, st_uid=1000, st_gid=1000, st_size=115289, st_atime=1571338054, st_mtime=1571338054, st_ctime=1571338054)\n",
      "os.stat_result(st_mode=16877, st_ino=6432233, st_dev=1048645, st_nlink=5, st_uid=1000, st_gid=1000, st_size=4096, st_atime=1571336015, st_mtime=1571336015, st_ctime=1571336015)\n",
      "os.stat_result(st_mode=33188, st_ino=8384902, st_dev=1048645, st_nlink=1, st_uid=1000, st_gid=1000, st_size=21, st_atime=1571332285, st_mtime=1571332285, st_ctime=1571335493)\n",
      "os.stat_result(st_mode=33188, st_ino=8384899, st_dev=1048645, st_nlink=1, st_uid=1000, st_gid=1000, st_size=122, st_atime=1571332285, st_mtime=1571332285, st_ctime=1571335493)\n",
      "os.stat_result(st_mode=16877, st_ino=8390488, st_dev=1048645, st_nlink=1, st_uid=1000, st_gid=1000, st_size=4096, st_atime=1571335493, st_mtime=1571332285, st_ctime=1571335493)\n",
      "os.stat_result(st_mode=33188, st_ino=8384922, st_dev=1048645, st_nlink=1, st_uid=1000, st_gid=1000, st_size=14167757, st_atime=1571332285, st_mtime=1571332285, st_ctime=1571335493)\n",
      "os.stat_result(st_mode=33188, st_ino=8384900, st_dev=1048645, st_nlink=1, st_uid=1000, st_gid=1000, st_size=813, st_atime=1571332285, st_mtime=1571332285, st_ctime=1571335493)\n",
      "os.stat_result(st_mode=33188, st_ino=8384897, st_dev=1048645, st_nlink=1, st_uid=1000, st_gid=1000, st_size=19, st_atime=1571332285, st_mtime=1571332285, st_ctime=1571335493)\n"
     ]
    }
   ],
   "source": [
    "for file in file_list:\n",
    "    print(os.stat(file))"
   ]
  },
  {
   "cell_type": "code",
   "execution_count": 68,
   "metadata": {},
   "outputs": [],
   "source": [
    "import nilearn as nl"
   ]
  },
  {
   "cell_type": "code",
   "execution_count": 80,
   "metadata": {},
   "outputs": [],
   "source": [
    "os.makedirs(os.path.join(os.getcwd(), 'would', 'like', 'to', 'make'))"
   ]
  },
  {
   "cell_type": "code",
   "execution_count": 95,
   "metadata": {},
   "outputs": [
    {
     "data": {
      "text/plain": [
       "['sub-001_anat_sub-001_run-01_T1w.nii.gz']"
      ]
     },
     "execution_count": 95,
     "metadata": {},
     "output_type": "execute_result"
    }
   ],
   "source": [
    "glob.glob('*run-0[0-9]_T1w.nii.gz')"
   ]
  },
  {
   "cell_type": "code",
   "execution_count": 96,
   "metadata": {},
   "outputs": [
    {
     "name": "stdout",
     "output_type": "stream",
     "text": [
      "Collecting seaborn\n",
      "\u001b[?25l  Downloading https://files.pythonhosted.org/packages/a8/76/220ba4420459d9c4c9c9587c6ce607bf56c25b3d3d2de62056efe482dadc/seaborn-0.9.0-py3-none-any.whl (208kB)\n",
      "\u001b[K     |████████████████████████████████| 215kB 3.3MB/s eta 0:00:01\n",
      "\u001b[?25hRequirement already satisfied: matplotlib>=1.4.3 in /srv/conda/envs/notebook/lib/python3.7/site-packages (from seaborn) (3.1.1)\n",
      "Requirement already satisfied: scipy>=0.14.0 in /srv/conda/envs/notebook/lib/python3.7/site-packages (from seaborn) (1.3.1)\n",
      "Requirement already satisfied: numpy>=1.9.3 in /srv/conda/envs/notebook/lib/python3.7/site-packages (from seaborn) (1.17.3)\n",
      "Requirement already satisfied: pandas>=0.15.2 in /srv/conda/envs/notebook/lib/python3.7/site-packages (from seaborn) (0.25.1)\n",
      "Requirement already satisfied: kiwisolver>=1.0.1 in /srv/conda/envs/notebook/lib/python3.7/site-packages (from matplotlib>=1.4.3->seaborn) (1.1.0)\n",
      "Requirement already satisfied: python-dateutil>=2.1 in /srv/conda/envs/notebook/lib/python3.7/site-packages (from matplotlib>=1.4.3->seaborn) (2.8.0)\n",
      "Requirement already satisfied: pyparsing!=2.0.4,!=2.1.2,!=2.1.6,>=2.0.1 in /srv/conda/envs/notebook/lib/python3.7/site-packages (from matplotlib>=1.4.3->seaborn) (2.4.2)\n",
      "Requirement already satisfied: cycler>=0.10 in /srv/conda/envs/notebook/lib/python3.7/site-packages (from matplotlib>=1.4.3->seaborn) (0.10.0)\n",
      "Requirement already satisfied: pytz>=2017.2 in /srv/conda/envs/notebook/lib/python3.7/site-packages (from pandas>=0.15.2->seaborn) (2019.3)\n",
      "Requirement already satisfied: setuptools in /srv/conda/envs/notebook/lib/python3.7/site-packages (from kiwisolver>=1.0.1->matplotlib>=1.4.3->seaborn) (41.2.0)\n",
      "Requirement already satisfied: six>=1.5 in /srv/conda/envs/notebook/lib/python3.7/site-packages (from python-dateutil>=2.1->matplotlib>=1.4.3->seaborn) (1.12.0)\n",
      "Installing collected packages: seaborn\n",
      "Successfully installed seaborn-0.9.0\n"
     ]
    }
   ],
   "source": [
    "!pip install seaborn"
   ]
  },
  {
   "cell_type": "code",
   "execution_count": 101,
   "metadata": {},
   "outputs": [
    {
     "data": {
      "text/plain": [
       "<matplotlib.axes._subplots.AxesSubplot at 0x7f41c1a3dc18>"
      ]
     },
     "execution_count": 101,
     "metadata": {},
     "output_type": "execute_result"
    },
    {
     "data": {
      "image/png": "[encoded data removed]",
      "text/plain": [
       "<Figure size 432x288 with 1 Axes>"
      ]
     },
     "metadata": {
      "needs_background": "light"
     },
     "output_type": "display_data"
    }
   ],
   "source": [
    "sns.distplot(canned_data[1:, 1])"
   ]
  },
  {
   "cell_type": "code",
   "execution_count": null,
   "metadata": {},
   "outputs": [],
   "source": []
  }
 ],
 "metadata": {
  "kernelspec": {
   "display_name": "Python 3",
   "language": "python",
   "name": "python3"
  },
  "language_info": {
   "codemirror_mode": {
    "name": "ipython",
    "version": 3
   },
   "file_extension": ".py",
   "mimetype": "text/x-python",
   "name": "python",
   "nbconvert_exporter": "python",
   "pygments_lexer": "ipython3",
   "version": "3.6.7"
  }
 },
 "nbformat": 4,
 "nbformat_minor": 2
}
